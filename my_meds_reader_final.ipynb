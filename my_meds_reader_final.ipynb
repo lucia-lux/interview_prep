{
 "cells": [
  {
   "cell_type": "code",
   "execution_count": 1,
   "metadata": {},
   "outputs": [],
   "source": [
    "import re\n",
    "\n",
    "def my_meds_reader(s):\n",
    "    \"\"\" \n",
    "    Reads data from text file and returns medication name.\n",
    "\n",
    "    Parameters\n",
    "    ----------\n",
    "    s:  str\n",
    "        input string\n",
    "    \n",
    "    Returns\n",
    "    -------\n",
    "    meds_dose_list: list\n",
    "        list of lists containing medication code (int) and dose (str) (e.g. [[1,'75mg daily'],[3,'100mg every 2 hours']])\n",
    "    \"\"\"\n",
    "    # names of drugs to search in text\n",
    "    meds_to_search = {'aspirin': '2', 'paracetamol': '1','panadol': '1','penicillin': '3'}\n",
    "\n",
    "    # split on empty line\\line containing only whitespaces.\n",
    "    # retain string content prior to first split only (ignore anything below \\n\\s*\\n)\n",
    "    s = re.split(\"\\n\\s*\\n\",s)[0]\n",
    "\n",
    "    #lower case everything and split on new line\n",
    "    s_lower = [f.lower() for f in s.split('\\n')]\n",
    "\n",
    "    #retain only those lines that contain relevant drugs\n",
    "    s_meds_only = [f for f in s_lower\n",
    "                    if any(x in f \n",
    "                    for x in meds_to_search.keys())]\n",
    "\n",
    "    # replace medication names with key (str)\n",
    "    s_meds_only = [f.replace(key, meds_to_search[key])\n",
    "                    for f in s_meds_only\n",
    "                    for key in meds_to_search.keys()\n",
    "                    if key in f]\n",
    "    \n",
    "    # split on first whitespace\n",
    "    s_split = [f.split(\" \",1) for f in s_meds_only]\n",
    "\n",
    "    # create a list for drug keys, convert key to int\n",
    "    list_meds = [int(f[0]) for f in s_split]\n",
    "\n",
    "    # create a list for dosage info and add whitespace if no info\n",
    "    list_doses = [f[1] if len(f)>1 else \" \" for f in s_split]\n",
    "\n",
    "    # zip the lists and return list of lists\n",
    "    meds_dose_list = [list(f) for f in zip(list_meds,list_doses)]\n",
    "\n",
    "    return meds_dose_list"
   ]
  }
 ],
 "metadata": {
  "interpreter": {
   "hash": "48186e61764c8c514947f0ef500accf59797b98e64cdc910e21ec2975c1f1025"
  },
  "kernelspec": {
   "display_name": "Python 3.9.4 64-bit",
   "language": "python",
   "name": "python3"
  },
  "language_info": {
   "codemirror_mode": {
    "name": "ipython",
    "version": 3
   },
   "file_extension": ".py",
   "mimetype": "text/x-python",
   "name": "python",
   "nbconvert_exporter": "python",
   "pygments_lexer": "ipython3",
   "version": "3.9.4"
  },
  "orig_nbformat": 4
 },
 "nbformat": 4,
 "nbformat_minor": 2
}

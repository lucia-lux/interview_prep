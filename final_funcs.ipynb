{
 "cells": [
  {
   "cell_type": "markdown",
   "metadata": {},
   "source": [
    "Test case"
   ]
  },
  {
   "cell_type": "code",
   "execution_count": 1,
   "metadata": {},
   "outputs": [
    {
     "name": "stdout",
     "output_type": "stream",
     "text": [
      "<class 'str'>\n",
      "Aspirin 75mg daily\n",
      "PANADOL 1000mg WHEN NEEDED MAX FOUR TIMES DAILY\n",
      "Atorvastatin 20mg daily\n",
      "Penicillin 500mg daily\n",
      "Paracetamol\n",
      "\n",
      "History:\n",
      "Feeling well up until yesterday, then he suddenly developed a severe headache.\n",
      "\n"
     ]
    }
   ],
   "source": [
    "import os\n",
    "\n",
    "working_dir =  r\"C:\\Users\\Luzia T\\job_applications\\Senior_research_fellow_IHI_UCL\"\n",
    "filename = \"example.txt\"\n",
    "\n",
    "with open(os.path.join(working_dir, filename), 'r') as reader:\n",
    "    txt = reader.read()\n",
    "\n",
    "print(type(txt))\n",
    "print(txt)"
   ]
  },
  {
   "cell_type": "code",
   "execution_count": 2,
   "metadata": {},
   "outputs": [],
   "source": [
    "import re\n",
    "\n",
    "def my_meds_reader(s):\n",
    "    \"\"\" \n",
    "    Reads data from text file and returns medication name.\n",
    "\n",
    "    Parameters\n",
    "    ----------\n",
    "    s:  str\n",
    "        input string\n",
    "    \n",
    "    Returns\n",
    "    -------\n",
    "    meds_dose_list: list\n",
    "        list of lists containing medication code (int) and dose (str) (e.g. [[1,'75mg daily'],[3,'100mg every 2 hours']])\n",
    "    \"\"\"\n",
    "    # names of drugs to search in text\n",
    "    meds_to_search = {'aspirin': 2, 'paracetamol': 1,'panadol': 1,'penicillin': 3}\n",
    "\n",
    "    # split on empty line\\line containing only whitespaces.\n",
    "    # retain string content prior to first split only (ignore anything below \\n\\s*\\n)\n",
    "    s = re.split(\"\\n\\s*\\n\",s)[0]\n",
    "\n",
    "    # lower case everything\n",
    "    s = s.lower()\n",
    "\n",
    "    # split into individual lines\n",
    "    s = s.split('\\n')\n",
    "\n",
    "    # split on first whitespace\n",
    "    s_split = [f.split(\" \",1) for f in s]\n",
    "\n",
    "    # replace medication names with key (str)]\n",
    "    meds_dose_list=[[meds_to_search[f[0]],f[1]]\n",
    "                    if len(f)>1 else \n",
    "                    [meds_to_search[f[0]],\"\"]\n",
    "                    for f in s_split\n",
    "                    if f[0] in meds_to_search.keys()]\n",
    "    \n",
    "\n",
    "    return meds_dose_list"
   ]
  },
  {
   "cell_type": "code",
   "execution_count": 5,
   "metadata": {},
   "outputs": [
    {
     "name": "stdout",
     "output_type": "stream",
     "text": [
      "[[2, '75mg daily'], [1, '1000mg when needed max four times daily'], [3, '500mg daily'], [1, '']]\n"
     ]
    }
   ],
   "source": [
    "meds_list = my_meds_reader(txt)\n",
    "print(meds_list)"
   ]
  },
  {
   "cell_type": "markdown",
   "metadata": {},
   "source": [
    "Accepting additional kwargs"
   ]
  },
  {
   "cell_type": "code",
   "execution_count": 6,
   "metadata": {},
   "outputs": [],
   "source": [
    "import re\n",
    "\n",
    "def my_meds_reader_w_keys(s,**kwargs):\n",
    "    \"\"\" \n",
    "    Reads data from text file and returns medication name.\n",
    "\n",
    "    Parameters\n",
    "    ----------\n",
    "    s:  str\n",
    "        input string\n",
    "    \n",
    "    optional kwargs:    dict\n",
    "        key-value pairs of drug names (str) and keys (int)\n",
    "    \n",
    "    Returns\n",
    "    -------\n",
    "    meds_dose_list: list\n",
    "        list of lists containing medication code (int) and dose (str) (e.g. [[1,'75mg daily'],[3,'100mg every 2 hours']])\n",
    "    \"\"\"\n",
    "    meds_to_search = {'aspirin': 2, 'paracetamol': 1,'panadol': 1,'penicillin': 3}\n",
    "    #dict_variable = {key:value for (key,value) in dictonary.items()}\n",
    "    if kwargs:\n",
    "        for new_entries in kwargs.values():\n",
    "            # names of drugs to search in text\n",
    "            meds_to_search.update(new_entries)\n",
    "    \n",
    "\n",
    "    # split on empty line\\line containing only whitespaces.\n",
    "    # retain string content prior to first split only (ignore anything below \\n\\s*\\n)\n",
    "    s = re.split(\"\\n\\s*\\n\",s)[0]\n",
    "\n",
    "    # lower case everything\n",
    "    s = s.lower()\n",
    "\n",
    "    # split into individual lines\n",
    "    s = s.split('\\n')\n",
    "\n",
    "    # split on first whitespace\n",
    "    s_split = [f.split(\" \",1) for f in s]\n",
    "    \n",
    "    meds_dose_list=[[meds_to_search[f[0]],f[1]]\n",
    "                    if len(f)>1 else \n",
    "                    [meds_to_search[f[0]],\"\"]\n",
    "                    for f in s_split\n",
    "                    if f[0] in meds_to_search.keys()]\n",
    "\n",
    "    return meds_dose_list"
   ]
  },
  {
   "cell_type": "code",
   "execution_count": 7,
   "metadata": {},
   "outputs": [
    {
     "name": "stdout",
     "output_type": "stream",
     "text": [
      "[[2, '75mg daily'], [1, '1000mg when needed max four times daily'], [5, '20mg daily'], [3, '500mg daily'], [1, '']]\n"
     ]
    }
   ],
   "source": [
    "meds_list = my_meds_reader_w_keys(txt, addmeds = {'atorvastatin': 5})\n",
    "print(meds_list)"
   ]
  },
  {
   "cell_type": "markdown",
   "metadata": {},
   "source": [
    "To check for spelling mistakes"
   ]
  },
  {
   "cell_type": "code",
   "execution_count": 8,
   "metadata": {},
   "outputs": [],
   "source": [
    "import re\n",
    "from difflib import SequenceMatcher\n",
    "\n",
    "def my_meds_reader_close_matches(s):\n",
    "    \"\"\" \n",
    "    Reads data from text file and returns medication name.\n",
    "    Returns similarity score for non-matching drug names.\n",
    "\n",
    "    Parameters\n",
    "    ----------\n",
    "    s:  str\n",
    "        input string\n",
    "    \n",
    "    Returns\n",
    "    -------\n",
    "    meds_dose_list: list\n",
    "        list of lists containing medication code (int) and dose (str) (e.g. [[1,'75mg daily'],[3,'100mg every 2 hours']])\n",
    "    \"\"\"\n",
    "    # names of drugs to search in text\n",
    "    meds_to_search = {'aspirin': 2, 'paracetamol': 1,'panadol': 1,'penicillin': 3}\n",
    "    \n",
    "    # lower case everything\n",
    "    s = s.lower()\n",
    "\n",
    "    # split on empty line\\line containing only whitespaces.\n",
    "    # retain string content prior to first split only (ignore anything below \\n\\s*\\n)\n",
    "    s = re.split(\"\\n\\s*\\n\",s)[0]\n",
    "\n",
    "    # split into individual lines\n",
    "    s = s.split('\\n')\n",
    "\n",
    "    # split on first whitespace\n",
    "    s_split = [f.split(\" \",1) for f in s]\n",
    "\n",
    "    # get non matches\n",
    "    non_matched_only = [f[0] for f in s_split\n",
    "                        if f[0] not in meds_to_search.keys()]\n",
    "\n",
    "    # check whether non matches are a close match for any of the drugs\n",
    "    match_ratio = [[f, key, SequenceMatcher(None,f,key).ratio()]\n",
    "                    for f in non_matched_only \n",
    "                    for key in meds_to_search.keys()]\n",
    "    \n",
    "    #check for highest match ratio in each sublist\n",
    "    similarity = []\n",
    "    for name in non_matched_only:  \n",
    "        max_match = max([f for f in match_ratio if name in f], key=lambda item: item[2])\n",
    "        similarity.append(max_match)\n",
    "    print(f'For non-matching drug names, the highest similarity was: {similarity}')\n",
    "\n",
    "    # replace medication names with key (str)]\n",
    "    meds_dose_list=[[meds_to_search[f[0]],f[1]]\n",
    "                    if len(f)>1 else \n",
    "                    [meds_to_search[f[0]],\"\"]\n",
    "                    for f in s_split\n",
    "                    if f[0] in meds_to_search.keys()]\n",
    "    \n",
    "    return meds_dose_list, non_matched_only, match_ratio"
   ]
  },
  {
   "cell_type": "code",
   "execution_count": 9,
   "metadata": {},
   "outputs": [
    {
     "name": "stdout",
     "output_type": "stream",
     "text": [
      "For non-matching drug names, the highest similarity was: [['atorvastatin', 'paracetamol', 0.43478260869565216]]\n"
     ]
    }
   ],
   "source": [
    "meds_list,non_matches,matchrat = my_meds_reader_close_matches(txt)"
   ]
  }
 ],
 "metadata": {
  "interpreter": {
   "hash": "9ec994d0b4d2f6c713992b16f2c88007ac3578bc75aec34272bb3a023418f6ca"
  },
  "kernelspec": {
   "display_name": "Python 3.9.7 64-bit",
   "language": "python",
   "name": "python3"
  },
  "language_info": {
   "codemirror_mode": {
    "name": "ipython",
    "version": 3
   },
   "file_extension": ".py",
   "mimetype": "text/x-python",
   "name": "python",
   "nbconvert_exporter": "python",
   "pygments_lexer": "ipython3",
   "version": "3.9.7"
  },
  "orig_nbformat": 4
 },
 "nbformat": 4,
 "nbformat_minor": 2
}

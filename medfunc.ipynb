{
 "cells": [
  {
   "cell_type": "code",
   "execution_count": 36,
   "metadata": {},
   "outputs": [],
   "source": [
    "import os"
   ]
  },
  {
   "cell_type": "code",
   "execution_count": 70,
   "metadata": {},
   "outputs": [
    {
     "name": "stdout",
     "output_type": "stream",
     "text": [
      "<class 'str'>\n",
      "Aspirin 75mg daily\n",
      "PANADOL 1000mg WHEN NEEDED MAX FOUR TIMES DAILY\n",
      "Atorvastatin 20mg daily\n",
      "Penicillin 500mg daily\n",
      "Paracetamol\n",
      "\n",
      "History:\n",
      "Feeling well up until yesterday, then he suddenly developed a severe headache.\n",
      "\n"
     ]
    }
   ],
   "source": [
    "working_dir = r\"P:\\admin\" #r\"C:\\Users\\Luzia T\\job_applications\\Senior_research_fellow_IHI_UCL\"\n",
    "filename = \"example.txt\"\n",
    "\n",
    "with open(os.path.join(working_dir, filename), 'r') as reader:\n",
    "    txt = reader.read()\n",
    "\n",
    "print(type(txt))\n",
    "print(txt)"
   ]
  },
  {
   "cell_type": "code",
   "execution_count": 76,
   "metadata": {},
   "outputs": [],
   "source": [
    "import re\n",
    "\n",
    "def my_meds_reader(s):\n",
    "    \"\"\" \n",
    "    Reads data from text file and returns medication name.\n",
    "\n",
    "    Parameters\n",
    "    ----------\n",
    "    s:  str\n",
    "        input string\n",
    "    \n",
    "    Returns\n",
    "    -------\n",
    "    meds_dose_list: list\n",
    "        list of lists containing medication code (int) and dose (str) (e.g. [[1,'75mg daily'],[3,'100mg every 2 hours']])\n",
    "    \"\"\"\n",
    "    # names of drugs to search in text\n",
    "    meds_to_search = {'aspirin': '2', 'paracetamol': '1','panadol': '1','penicillin': '3'}\n",
    "\n",
    "    # split on empty line\\line containing only whitespaces.\n",
    "    # retain string content prior to first split only (ignore anything below \\n\\s*\\n)\n",
    "    s = re.split(\"\\n\\s*\\n\",s)[0]\n",
    "\n",
    "    #lower case everything and split on new line\n",
    "    s_lower = [f.lower() for f in s.split('\\n')]\n",
    "\n",
    "    #retain only those lines that contain relevant drugs\n",
    "    s_meds_only = [f for f in s_lower if any(x in f for x in meds_to_search.keys())]\n",
    "\n",
    "    # replace medication names with key (str), split on first whitespace\n",
    "    for key in meds_to_search.keys():\n",
    "        s_meds_only = [f.replace(key, meds_to_search[key]) for f in s_meds_only]\n",
    "        s_split = [f.split(\" \",1) for f in s_meds_only]\n",
    "\n",
    "    # create a list for drug keys, convert key to int\n",
    "    list_meds = [int(f[0]) for f in s_split]\n",
    "\n",
    "    # create a list for dosage info and add whitespace if no info\n",
    "    list_doses = [f[1] if len(f)>1 else \" \" for f in s_split]\n",
    "\n",
    "    # zip the lists and return list of lists\n",
    "    meds_dose_list = [list(f) for f in zip(list_meds,list_doses)]\n",
    "\n",
    "    return meds_dose_list"
   ]
  },
  {
   "cell_type": "code",
   "execution_count": 77,
   "metadata": {},
   "outputs": [],
   "source": [
    "meds_list = my_meds_reader(txt)"
   ]
  },
  {
   "cell_type": "code",
   "execution_count": 80,
   "metadata": {},
   "outputs": [
    {
     "data": {
      "text/plain": [
       "list"
      ]
     },
     "execution_count": 80,
     "metadata": {},
     "output_type": "execute_result"
    }
   ],
   "source": [
    "type(meds_list[0])"
   ]
  },
  {
   "cell_type": "code",
   "execution_count": 3,
   "metadata": {},
   "outputs": [],
   "source": [
    "meds_to_search = {'aspirin': '2', 'paracetamol': '1','panadol': '1','penicillin': '3'}"
   ]
  },
  {
   "cell_type": "code",
   "execution_count": 75,
   "metadata": {},
   "outputs": [
    {
     "name": "stdout",
     "output_type": "stream",
     "text": [
      "[['2', '75mg daily'], ['1', '1000mg when needed max four times daily'], ['3', '500mg daily'], ['1']]\n"
     ]
    }
   ],
   "source": [
    "\n",
    "s = re.split(\"\\n\\s*\\n\",txt)[0]\n",
    "s_lower = [f.lower() for f in s.split('\\n')]\n",
    "s_meds_only = [f for f in s_lower if any(x in f for x in meds_to_search.keys())]\n",
    "for key in meds_to_search.keys():\n",
    "    s_meds_only = [f.replace(key, meds_to_search[key]) for f in s_meds_only]\n",
    "    s_split = [f.split(\" \",1) for f in s_meds_only]\n",
    "print(s_split)\n",
    "#list_meds = [int(f[0]) for f in s_split]"
   ]
  },
  {
   "cell_type": "code",
   "execution_count": 72,
   "metadata": {},
   "outputs": [
    {
     "name": "stdout",
     "output_type": "stream",
     "text": [
      "[['2', '75mg daily'], ['1', '1000mg when needed max four times daily'], ['3', '500mg daily'], ['1']]\n"
     ]
    }
   ],
   "source": [
    "\n",
    "s = txt\n",
    "s = re.split(\"\\n\\s*\\n\",s)[0]\n",
    "s_lower = [f.lower() for f in s.split('\\n')]\n",
    "s_meds_only = [f for f in s_lower if any(x in f for x in meds_to_search.keys())]\n",
    "for key in meds_to_search.keys():\n",
    "        s_meds_only = [f.replace(key, meds_to_search[key]) for f in s_meds_only]\n",
    "        s_split = [f.split(\" \",1) for f in s_meds_only]\n",
    "\n",
    "print(s_split)\n"
   ]
  },
  {
   "cell_type": "code",
   "execution_count": 58,
   "metadata": {},
   "outputs": [
    {
     "name": "stdout",
     "output_type": "stream",
     "text": [
      "17.6 µs ± 573 ns per loop (mean ± std. dev. of 7 runs, 100000 loops each)\n"
     ]
    }
   ],
   "source": [
    "%%timeit\n",
    "s = txt\n",
    "s = re.split(\"\\n\\s*\\n\",s)[0]\n",
    "s_lower = [f.lower() for f in s.split('\\n')]\n",
    "s_meds_only = [f for f in s_lower if any(x in f for x in meds_to_search.keys())]\n",
    "for key in meds_to_search.keys():\n",
    "    s_replaced = [re.sub(key, meds_to_search[key],f) for f in s_meds_only]\n",
    "    s_split = [f.split(\" \",1) for f in s_replaced]"
   ]
  },
  {
   "cell_type": "code",
   "execution_count": 32,
   "metadata": {},
   "outputs": [
    {
     "data": {
      "text/plain": [
       "dict_keys(['aspirin', 'paracetamol', 'panadol', 'penicillin'])"
      ]
     },
     "execution_count": 32,
     "metadata": {},
     "output_type": "execute_result"
    }
   ],
   "source": [
    "meds_to_search.keys()"
   ]
  },
  {
   "cell_type": "code",
   "execution_count": 17,
   "metadata": {},
   "outputs": [],
   "source": [
    "txt2 = ''.join([txt, '\\n\\n and then something else happened'])\n"
   ]
  },
  {
   "cell_type": "code",
   "execution_count": 19,
   "metadata": {},
   "outputs": [
    {
     "data": {
      "text/plain": [
       "['Aspirin 75mg daily\\nPANADOL 1000mg WHEN NEEDED MAX FOUR TIMES DAILY\\nAtorvastatin 20mg daily\\nPenicillin 500mg daily\\nParacetamol',\n",
       " 'History:\\nFeeling well up until yesterday, then he suddenly developed a severe headache.',\n",
       " ' and then something else happened']"
      ]
     },
     "execution_count": 19,
     "metadata": {},
     "output_type": "execute_result"
    }
   ],
   "source": [
    "re.split(\"\\n\\s*\\n\",txt2)"
   ]
  },
  {
   "cell_type": "code",
   "execution_count": 20,
   "metadata": {},
   "outputs": [
    {
     "name": "stdout",
     "output_type": "stream",
     "text": [
      "Aspirin 75mg daily\n",
      "PANADOL 1000mg WHEN NEEDED MAX FOUR TIMES DAILY\n",
      "Atorvastatin 20mg daily\n",
      "Penicillin 500mg daily\n",
      "Paracetamol\n"
     ]
    }
   ],
   "source": [
    "txt3 = re.split(\"\\n\\s*\\n\",txt)[0]\n",
    "print(txt3)"
   ]
  },
  {
   "cell_type": "code",
   "execution_count": 22,
   "metadata": {},
   "outputs": [
    {
     "data": {
      "text/plain": [
       "'Aspirin 75mg daily\\nPANADOL 1000mg WHEN NEEDED MAX FOUR TIMES DAILY\\nAtorvastatin 20mg daily\\nPenicillin 500mg daily\\nParacetamol'"
      ]
     },
     "execution_count": 22,
     "metadata": {},
     "output_type": "execute_result"
    }
   ],
   "source": [
    "re.split(\"\\n\\s*\\n\",txt3)[0]"
   ]
  },
  {
   "cell_type": "code",
   "execution_count": 107,
   "metadata": {},
   "outputs": [
    {
     "name": "stdout",
     "output_type": "stream",
     "text": [
      "The doses are [[2, '75mg daily'], [1, '1000mg when needed max four times daily'], [3, '500mg daily'], [1, ' ']].\n"
     ]
    }
   ],
   "source": [
    "meds_doses = my_meds_reader(txt)\n",
    "print(f'The doses are {meds_doses}.')"
   ]
  },
  {
   "cell_type": "code",
   "execution_count": 97,
   "metadata": {},
   "outputs": [],
   "source": [
    "meds_to_search = {'aspirin': 2, 'paracetamol':1,'panadol':1,'penicillin':3}\n",
    "txt_lower = [f.lower() for f in txt.split('\\n')] \n",
    "txt_meds_only = [f for f in txt_lower if any(x in f for x in meds_to_search.keys())]\n"
   ]
  },
  {
   "cell_type": "code",
   "execution_count": null,
   "metadata": {},
   "outputs": [],
   "source": []
  }
 ],
 "metadata": {
  "interpreter": {
   "hash": "9ec994d0b4d2f6c713992b16f2c88007ac3578bc75aec34272bb3a023418f6ca"
  },
  "kernelspec": {
   "display_name": "Python 3.9.7 64-bit",
   "language": "python",
   "name": "python3"
  },
  "language_info": {
   "codemirror_mode": {
    "name": "ipython",
    "version": 3
   },
   "file_extension": ".py",
   "mimetype": "text/x-python",
   "name": "python",
   "nbconvert_exporter": "python",
   "pygments_lexer": "ipython3",
   "version": "3.9.4"
  },
  "orig_nbformat": 4
 },
 "nbformat": 4,
 "nbformat_minor": 2
}

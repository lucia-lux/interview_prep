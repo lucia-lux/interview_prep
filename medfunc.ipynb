{
 "cells": [
  {
   "cell_type": "code",
   "execution_count": 1,
   "metadata": {},
   "outputs": [],
   "source": [
    "import os"
   ]
  },
  {
   "cell_type": "code",
   "execution_count": 9,
   "metadata": {},
   "outputs": [
    {
     "name": "stdout",
     "output_type": "stream",
     "text": [
      "<class 'str'>\n",
      "Aspirin 75mg daily\n",
      "PANADOL 1000mg WHEN NEEDED MAX FOUR TIMES DAILY\n",
      "Atorvastatin 20mg daily\n",
      "Penicillin 500mg daily\n",
      "Paracetamol\n",
      "\n",
      "History:\n",
      "Feeling well up until yesterday, then he suddenly developed a severe headache.\n",
      "\n"
     ]
    }
   ],
   "source": [
    "working_dir =  r\"C:\\Users\\Luzia T\\job_applications\\Senior_research_fellow_IHI_UCL\"\n",
    "filename = \"example.txt\"\n",
    "\n",
    "with open(os.path.join(working_dir, filename), 'r') as reader:\n",
    "    txt = reader.read()\n",
    "\n",
    "print(type(txt))\n",
    "print(txt)"
   ]
  },
  {
   "cell_type": "code",
   "execution_count": 18,
   "metadata": {},
   "outputs": [],
   "source": [
    "import re\n",
    "\n",
    "def my_meds_reader(s):\n",
    "    \"\"\" \n",
    "    Reads data from text file and returns medication name.\n",
    "\n",
    "    Parameters\n",
    "    ----------\n",
    "    s:  str\n",
    "        input string\n",
    "    \n",
    "    Returns\n",
    "    -------\n",
    "    meds_dose_list: list\n",
    "        list of lists containing medication code (int) and dose (str) (e.g. [[1,'75mg daily'],[3,'100mg every 2 hours']])\n",
    "    \"\"\"\n",
    "    # names of drugs to search in text\n",
    "    meds_to_search = {'aspirin': '2', 'paracetamol': '1','panadol': '1','penicillin': '3'}\n",
    "\n",
    "    # split on empty line\\line containing only whitespaces.\n",
    "    # retain string content prior to first split only (ignore anything below \\n\\s*\\n)\n",
    "    s = re.split(\"\\n\\s*\\n\",s)[0]\n",
    "\n",
    "    #lower case everything and split on new line\n",
    "    s_lower = [f.lower() for f in s.split('\\n')]\n",
    "\n",
    "    #retain only those lines that contain relevant drugs\n",
    "    s_meds_only = [f for f in s_lower if any(x in f for x in meds_to_search.keys())]\n",
    "\n",
    "    # replace medication names with key (str)\n",
    "    for key in meds_to_search.keys():\n",
    "        s_meds_only = [f.replace(key, meds_to_search[key]) for f in s_meds_only]\n",
    "    \n",
    "    # split on first whitespace\n",
    "    s_split = [f.split(\" \",1) for f in s_meds_only]\n",
    "\n",
    "    # create a list for drug keys, convert key to int\n",
    "    list_meds = [int(f[0]) for f in s_split]\n",
    "\n",
    "    # create a list for dosage info and add whitespace if no info\n",
    "    list_doses = [f[1] if len(f)>1 else \" \" for f in s_split]\n",
    "\n",
    "    # zip the lists and return list of lists\n",
    "    meds_dose_list = [list(f) for f in zip(list_meds,list_doses)]\n",
    "\n",
    "    return meds_dose_list"
   ]
  },
  {
   "cell_type": "code",
   "execution_count": 19,
   "metadata": {},
   "outputs": [
    {
     "name": "stdout",
     "output_type": "stream",
     "text": [
      "13.8 µs ± 198 ns per loop (mean ± std. dev. of 7 runs, 100000 loops each)\n"
     ]
    }
   ],
   "source": [
    "%%timeit\n",
    "my_meds_list = my_meds_reader(txt)"
   ]
  },
  {
   "cell_type": "code",
   "execution_count": 14,
   "metadata": {},
   "outputs": [
    {
     "name": "stdout",
     "output_type": "stream",
     "text": [
      "[[2, '75mg daily'], [1, '1000mg when needed max four times daily'], [3, '500mg daily'], [1, ' ']]\n",
      "<class 'list'>\n",
      "<class 'list'>\n"
     ]
    }
   ],
   "source": [
    "print(my_meds_list)\n",
    "print(type(my_meds_list))\n",
    "print(type(my_meds_list[0]))"
   ]
  },
  {
   "cell_type": "code",
   "execution_count": 15,
   "metadata": {},
   "outputs": [],
   "source": [
    "import re\n",
    "\n",
    "def my_meds_reader(s):\n",
    "    \"\"\" \n",
    "    Reads data from text file and returns medication name.\n",
    "\n",
    "    Parameters\n",
    "    ----------\n",
    "    s:  str\n",
    "        input string\n",
    "    \n",
    "    Returns\n",
    "    -------\n",
    "    meds_dose_list: list\n",
    "        list of lists containing medication code (int) and dose (str) (e.g. [[1,'75mg daily'],[3,'100mg every 2 hours']])\n",
    "    \"\"\"\n",
    "    # names of drugs to search in text\n",
    "    meds_to_search = {'aspirin': '2', 'paracetamol': '1','panadol': '1','penicillin': '3'}\n",
    "    \n",
    "    # lower case everything\n",
    "    s = s.lower()\n",
    "\n",
    "    # split on empty line\\line containing only whitespaces.\n",
    "    # retain string content prior to first split only (ignore anything below \\n\\s*\\n)\n",
    "    s = re.split(\"\\n\\s*\\n\",s)[0]\n",
    "\n",
    "    # split into individual lines\n",
    "    s = s.split('\\n')\n",
    "\n",
    "    # replace medication names with key (str)\n",
    "    s_meds_only = [f.replace(key, meds_to_search[key])\n",
    "                    for f in s\n",
    "                    for key in meds_to_search.keys()\n",
    "                    if key in f]\n",
    "    \n",
    "    # split on first whitespace\n",
    "    s_split = [f.split(\" \",1) for f in s_meds_only]\n",
    "\n",
    "    meds_dose_list = [[int(f[0]),f[1]] if len(f)>1 else [int(f[0]),\"\"] for f in s_split]\n",
    "\n",
    "    return meds_dose_list"
   ]
  },
  {
   "cell_type": "code",
   "execution_count": 19,
   "metadata": {},
   "outputs": [
    {
     "name": "stdout",
     "output_type": "stream",
     "text": [
      "7.77 µs ± 120 ns per loop (mean ± std. dev. of 7 runs, 100000 loops each)\n"
     ]
    }
   ],
   "source": [
    "%%timeit\n",
    "my_meds_list = my_meds_reader(txt)"
   ]
  },
  {
   "cell_type": "code",
   "execution_count": 14,
   "metadata": {},
   "outputs": [
    {
     "name": "stdout",
     "output_type": "stream",
     "text": [
      "[[2, '75mg daily'], [1, '1000mg when needed max four times daily'], [3, '500mg daily'], [1, '']]\n"
     ]
    }
   ],
   "source": [
    "print(my_meds_list)"
   ]
  },
  {
   "cell_type": "code",
   "execution_count": 33,
   "metadata": {},
   "outputs": [],
   "source": [
    "s = txt\n",
    "meds_to_search = {'aspirin': '2', 'paracetamol': '1','panadol': '1','penicillin': '3'}\n",
    "s = re.split(\"\\n\\s*\\n\",s)[0]\n",
    "s_lower = [f.lower() for f in s.split('\\n')]\n",
    "\n",
    "s_meds_only = [f for f in s_lower\n",
    "                if any(x in f \n",
    "                for x in meds_to_search.keys())]"
   ]
  },
  {
   "cell_type": "code",
   "execution_count": 13,
   "metadata": {},
   "outputs": [],
   "source": [
    "def my_test(s_meds_only,meds_to_search): \n",
    "    for key in meds_to_search.keys():\n",
    "        s_meds_only = [f.replace(key, meds_to_search[key]) for f in s_meds_only]"
   ]
  },
  {
   "cell_type": "code",
   "execution_count": 39,
   "metadata": {},
   "outputs": [],
   "source": [
    "def my_test_2(s_meds_only,meds_to_search):\n",
    "     s_meds_only = [f.replace(key, meds_to_search[key])\n",
    "                    for f in s_meds_only\n",
    "                    for key in meds_to_search.keys()\n",
    "                    if key in f]\n",
    "     return s_meds_only"
   ]
  },
  {
   "cell_type": "code",
   "execution_count": 40,
   "metadata": {},
   "outputs": [
    {
     "name": "stdout",
     "output_type": "stream",
     "text": [
      "['2 75mg daily', '1 1000mg when needed max four times daily', '3 500mg daily', '1']\n"
     ]
    }
   ],
   "source": [
    "s_meds = my_test_2(s_meds_only, meds_to_search)\n",
    "print(s_meds)"
   ]
  },
  {
   "cell_type": "code",
   "execution_count": 20,
   "metadata": {},
   "outputs": [],
   "source": [
    "def iterate_lists(meds_to_search, s_meds_only):\n",
    "\n",
    "    s_meds_only = [f.replace(k[0], k[1])\n",
    "                    for f in s_meds_only\n",
    "                    for k in meds_to_search\n",
    "                    if k in f]"
   ]
  },
  {
   "cell_type": "code",
   "execution_count": 17,
   "metadata": {},
   "outputs": [
    {
     "name": "stdout",
     "output_type": "stream",
     "text": [
      "2.38 µs ± 139 ns per loop (mean ± std. dev. of 7 runs, 100000 loops each)\n"
     ]
    }
   ],
   "source": [
    "%%timeit\n",
    "my_test_2(s_meds_only, meds_to_search)"
   ]
  },
  {
   "cell_type": "code",
   "execution_count": 13,
   "metadata": {},
   "outputs": [],
   "source": [
    "import re\n",
    "\n",
    "def my_meds_reader(s):\n",
    "    \"\"\" \n",
    "    Reads data from text file and returns medication name.\n",
    "\n",
    "    Parameters\n",
    "    ----------\n",
    "    s:  str\n",
    "        input string\n",
    "    \n",
    "    Returns\n",
    "    -------\n",
    "    meds_dose_list: list\n",
    "        list of lists containing medication code (int) and dose (str) (e.g. [[1,'75mg daily'],[3,'100mg every 2 hours']])\n",
    "    \"\"\"\n",
    "    # names of drugs to search in text\n",
    "    meds_to_search = {'aspirin': 2, 'paracetamol': 1,'panadol': 1,'penicillin': 3}\n",
    "    \n",
    "    # lower case everything\n",
    "    s = s.lower()\n",
    "\n",
    "    # split on empty line\\line containing only whitespaces.\n",
    "    # retain string content prior to first split only (ignore anything below \\n\\s*\\n)\n",
    "    s = re.split(\"\\n\\s*\\n\",s)[0]\n",
    "\n",
    "    # split into individual lines\n",
    "    s = s.split('\\n')\n",
    "\n",
    "    # split on first whitespace\n",
    "    s_split = [f.split(\" \",1) for f in s]\n",
    "\n",
    "    # replace medication names with key (str)]\n",
    "    meds_dose_list=[[meds_to_search[key],f[1]]\n",
    "                    if len(f)>1 else \n",
    "                    [meds_to_search[key],\"\"]\n",
    "                    for f in s_split\n",
    "                    for key in meds_to_search.keys()\n",
    "                    if key in f]\n",
    "    \n",
    "\n",
    "    return meds_dose_list"
   ]
  },
  {
   "cell_type": "code",
   "execution_count": 14,
   "metadata": {},
   "outputs": [],
   "source": [
    "#%%timeit\n",
    "my_meds_list = my_meds_reader(txt)"
   ]
  },
  {
   "cell_type": "code",
   "execution_count": 16,
   "metadata": {},
   "outputs": [
    {
     "name": "stdout",
     "output_type": "stream",
     "text": [
      "[[2, '75mg daily'], [1, '1000mg when needed max four times daily'], [3, '500mg daily'], [1, '']]\n"
     ]
    }
   ],
   "source": [
    "print(my_meds_list)"
   ]
  },
  {
   "cell_type": "code",
   "execution_count": null,
   "metadata": {},
   "outputs": [],
   "source": [
    "import re\n",
    "\n",
    "def my_meds_reader_w_keys(s,**kwargs):\n",
    "    \"\"\" \n",
    "    Reads data from text file and returns medication name.\n",
    "\n",
    "    Parameters\n",
    "    ----------\n",
    "    s:  str\n",
    "        input string\n",
    "    \n",
    "    Returns\n",
    "    -------\n",
    "    meds_dose_list: list\n",
    "        list of lists containing medication code (int) and dose (str) (e.g. [[1,'75mg daily'],[3,'100mg every 2 hours']])\n",
    "    \"\"\"\n",
    "    # names of drugs to search in text\n",
    "    meds_to_search = {'aspirin': 2, 'paracetamol': 1,'panadol': 1,'penicillin': 3}\n",
    "\n",
    "    \n",
    "    # lower case everything\n",
    "    s = s.lower()\n",
    "\n",
    "    # split on empty line\\line containing only whitespaces.\n",
    "    # retain string content prior to first split only (ignore anything below \\n\\s*\\n)\n",
    "    s = re.split(\"\\n\\s*\\n\",s)[0]\n",
    "\n",
    "    # split into individual lines\n",
    "    s = s.split('\\n')\n",
    "\n",
    "    # split on first whitespace\n",
    "    s_split = [f.split(\" \",1) for f in s]\n",
    "\n",
    "    # replace medication names with key (str)]\n",
    "    meds_dose_list=[[meds_to_search[key],f[1]]\n",
    "                    if len(f)>1 else \n",
    "                    [meds_to_search[key],\"\"]\n",
    "                    for f in s_split\n",
    "                    for key in meds_to_search.keys()\n",
    "                    if key in f]\n",
    "    \n",
    "\n",
    "    return meds_dose_list"
   ]
  }
 ],
 "metadata": {
  "interpreter": {
   "hash": "9ec994d0b4d2f6c713992b16f2c88007ac3578bc75aec34272bb3a023418f6ca"
  },
  "kernelspec": {
   "display_name": "Python 3.9.7 64-bit",
   "language": "python",
   "name": "python3"
  },
  "language_info": {
   "codemirror_mode": {
    "name": "ipython",
    "version": 3
   },
   "file_extension": ".py",
   "mimetype": "text/x-python",
   "name": "python",
   "nbconvert_exporter": "python",
   "pygments_lexer": "ipython3",
   "version": "3.9.7"
  },
  "orig_nbformat": 4
 },
 "nbformat": 4,
 "nbformat_minor": 2
}
